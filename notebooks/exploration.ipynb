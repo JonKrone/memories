{
 "cells": [
  {
   "cell_type": "code",
   "execution_count": 20,
   "metadata": {},
   "outputs": [
    {
     "name": "stdout",
     "output_type": "stream",
     "text": [
      "The autoreload extension is already loaded. To reload it, use:\n",
      "  %reload_ext autoreload\n"
     ]
    }
   ],
   "source": [
    "%load_ext autoreload\n",
    "%autoreload 2\n",
    "\n",
    "import sys\n",
    "sys.path.append('..')\n",
    "\n",
    "from src.helpers import load_conversations, process_conversations"
   ]
  },
  {
   "cell_type": "code",
   "execution_count": 23,
   "metadata": {},
   "outputs": [
    {
     "data": {
      "text/plain": [
       "{'title': 'New Memory, Fresh Start',\n",
       " 'create_time': datetime.datetime(2024, 4, 24, 2, 47, 37, 936938, tzinfo=TzInfo(UTC)),\n",
       " 'update_time': datetime.datetime(2024, 4, 24, 2, 51, 33, 624397, tzinfo=TzInfo(UTC)),\n",
       " 'mapping': {'fa90b8a9-cbf9-4efd-b358-448934dbf9f1': MappingEntry(id='fa90b8a9-cbf9-4efd-b358-448934dbf9f1', message=Message(id='fa90b8a9-cbf9-4efd-b358-448934dbf9f1', author=Author(role='system', name=None, metadata={}), create_time=None, update_time=None, content=Content(content_type='text', parts=['']), status='finished_successfully', end_turn=True, weight=0.0, metadata={'is_visually_hidden_from_conversation': True}, recipient='all'), parent='aaa1a1b3-1880-4c23-b966-1d48d826d18f', children=['0963f613-f536-434d-b5d7-ac6b4541d7c8']),\n",
       "  'aaa1a1b3-1880-4c23-b966-1d48d826d18f': MappingEntry(id='aaa1a1b3-1880-4c23-b966-1d48d826d18f', message=None, parent=None, children=['fa90b8a9-cbf9-4efd-b358-448934dbf9f1']),\n",
       "  '0963f613-f536-434d-b5d7-ac6b4541d7c8': MappingEntry(id='0963f613-f536-434d-b5d7-ac6b4541d7c8', message=Message(id='0963f613-f536-434d-b5d7-ac6b4541d7c8', author=Author(role='system', name=None, metadata={}), create_time=None, update_time=None, content=Content(content_type='text', parts=['']), status='finished_successfully', end_turn=None, weight=1.0, metadata={'is_user_system_message': True, 'user_context_message_data': {'about_user_message': 'I am based in Minneapolis, Minnesota. I grew up in Richmond, VA and have worked for a couple years in each of Austin and Dallas TX and Atlanta GA.\\n\\nI am a software engineer who specializes in complex web and phone app development for healthcare startups and researchers. I am an expert typescript programmer and consider myself more of a backend-of-the-frontend engineer. I also have a strong understanding of Ruby, Python, and general data modeling.\\n\\nI use macos and my terminal is zsh. Please only provide commands for those environments.\\n\\nI can talk about tech business strategy for hours.\\n\\nI would like to become better at high-level software architecture conversations and presenting cost/benefit analyses at a CTO/CIO level.', 'about_model_message': 'Please ask follow-up questions if you need more context.\\n\\nPlease talk in a casual tone with me. Please be fairly concise when we talk about software engineering topics. I will ask for more details if I need them.\\n\\nIf you feel strongly about something or have a high degree of confidence, be direct.\\n\\nWhen you provide code please don\\'t explain how it works. Prefer functional programming and the most efficient solutions as long as they\\'re readable. In javascript, please write code with arrow functions where possible.\\n\\nI enjoy puns and fun \"did you know?\" side tangents.'}, 'is_visually_hidden_from_conversation': True}, recipient='all'), parent='fa90b8a9-cbf9-4efd-b358-448934dbf9f1', children=['aaa21d40-d810-466b-b32b-f21252cfaf32']),\n",
       "  'aaa21d40-d810-466b-b32b-f21252cfaf32': MappingEntry(id='aaa21d40-d810-466b-b32b-f21252cfaf32', message=Message(id='aaa21d40-d810-466b-b32b-f21252cfaf32', author=Author(role='user', name=None, metadata={}), create_time=datetime.datetime(2024, 4, 24, 2, 47, 37, 938795, tzinfo=TzInfo(UTC)), update_time=None, content=Content(content_type='text', parts=[\"Hey! What do you know about me? I saw you're memory of our conversations was just enabled. Have you already processed our past chats?\"]), status='finished_successfully', end_turn=None, weight=1.0, metadata={'request_id': '8792c50c9a1b511c-MSP', 'timestamp_': 'absolute', 'message_type': None}, recipient='all'), parent='0963f613-f536-434d-b5d7-ac6b4541d7c8', children=['78190c06-435c-4915-a3a3-574d086d3e9a']),\n",
       "  '78190c06-435c-4915-a3a3-574d086d3e9a': MappingEntry(id='78190c06-435c-4915-a3a3-574d086d3e9a', message=Message(id='78190c06-435c-4915-a3a3-574d086d3e9a', author=Author(role='assistant', name=None, metadata={}), create_time=datetime.datetime(2024, 4, 24, 2, 47, 42, 790415, tzinfo=TzInfo(UTC)), update_time=None, content=Content(content_type='text', parts=['']), status='finished_successfully', end_turn=None, weight=1.0, metadata={'message_type': None, 'model_slug': 'gpt-4', 'default_model_slug': 'gpt-4', 'parent_id': 'aaa21d40-d810-466b-b32b-f21252cfaf32', 'request_id': '8792c50c9a1b511c-MSP', 'timestamp_': 'absolute'}, recipient='all'), parent='aaa21d40-d810-466b-b32b-f21252cfaf32', children=['c545dfc4-995e-40ed-a9e6-47cbf2671e8b']),\n",
       "  'c545dfc4-995e-40ed-a9e6-47cbf2671e8b': MappingEntry(id='c545dfc4-995e-40ed-a9e6-47cbf2671e8b', message=Message(id='c545dfc4-995e-40ed-a9e6-47cbf2671e8b', author=Author(role='assistant', name=None, metadata={}), create_time=datetime.datetime(2024, 4, 24, 2, 47, 42, 790627, tzinfo=TzInfo(UTC)), update_time=None, content=Content(content_type='text', parts=[\"Hey! I don't actually have any memory of our previous conversations yet, since memory is only active during our current chat. Each time we start a new session, it's like a fresh start. However, I do retain the information you provide during our conversation today until it ends. If there’s anything specific you’d like me to remember for future chats, just let me know!\"]), status='finished_successfully', end_turn=True, weight=1.0, metadata={'finish_details': {'type': 'stop', 'stop_tokens': [100260]}, 'citations': [], 'gizmo_id': None, 'is_complete': True, 'message_type': None, 'model_slug': 'gpt-4', 'default_model_slug': 'gpt-4', 'pad': 'AAAAAAAAAAA', 'parent_id': '78190c06-435c-4915-a3a3-574d086d3e9a', 'request_id': '8792c50c9a1b511c-MSP', 'timestamp_': 'absolute'}, recipient='all'), parent='78190c06-435c-4915-a3a3-574d086d3e9a', children=['aaa2bfbd-af35-4003-8af3-347f1e614ecf']),\n",
       "  'aaa2bfbd-af35-4003-8af3-347f1e614ecf': MappingEntry(id='aaa2bfbd-af35-4003-8af3-347f1e614ecf', message=Message(id='aaa2bfbd-af35-4003-8af3-347f1e614ecf', author=Author(role='user', name=None, metadata={}), create_time=datetime.datetime(2024, 4, 24, 2, 48, 27, 495947, tzinfo=TzInfo(UTC)), update_time=None, content=Content(content_type='multimodal_text', parts=[{'content_type': 'image_asset_pointer', 'asset_pointer': 'file-service://file-8anAr8HdiVcJYLeXO1Y9n3ph', 'size_bytes': 365931, 'width': 1592, 'height': 1409, 'fovea': None, 'metadata': None}, 'But look at this! I see memory in my settings. ']), status='finished_successfully', end_turn=None, weight=1.0, metadata={'attachments': [{'name': 'image.png', 'id': 'file-8anAr8HdiVcJYLeXO1Y9n3ph', 'size': 365931, 'mimeType': 'image/png', 'width': 1592, 'height': 1409}], 'request_id': '8792c63fdb49511c-MSP', 'timestamp_': 'absolute', 'message_type': None}, recipient='all'), parent='c545dfc4-995e-40ed-a9e6-47cbf2671e8b', children=['92f39d33-e63e-415b-bf7c-838803f03456']),\n",
       "  '92f39d33-e63e-415b-bf7c-838803f03456': MappingEntry(id='92f39d33-e63e-415b-bf7c-838803f03456', message=Message(id='92f39d33-e63e-415b-bf7c-838803f03456', author=Author(role='assistant', name=None, metadata={}), create_time=datetime.datetime(2024, 4, 24, 2, 48, 41, 385389, tzinfo=TzInfo(UTC)), update_time=None, content=Content(content_type='text', parts=[\"Got it! That screenshot clarifies things. The memory feature is indeed enabled for our conversations. This means that I can now retain information across our chats. It helps me to provide more personalized and consistent interactions over time. So, while I don't have access to our past conversations before this feature was enabled, moving forward, I'll remember what we discuss. If there's something you want me to keep in mind for next time, feel free to tell me!\"]), status='finished_successfully', end_turn=True, weight=1.0, metadata={'finish_details': {'type': 'stop', 'stop_tokens': [100260]}, 'citations': [], 'gizmo_id': None, 'message_type': None, 'model_slug': 'gpt-4', 'default_model_slug': 'gpt-4', 'pad': 'AAAAAAAAAA', 'parent_id': 'aaa2bfbd-af35-4003-8af3-347f1e614ecf', 'is_complete': True, 'request_id': '8792c63fdb49511c-MSP', 'timestamp_': 'absolute'}, recipient='all'), parent='aaa2bfbd-af35-4003-8af3-347f1e614ecf', children=['aaa21307-7669-4eed-b840-f1f88486bd33']),\n",
       "  'aaa21307-7669-4eed-b840-f1f88486bd33': MappingEntry(id='aaa21307-7669-4eed-b840-f1f88486bd33', message=Message(id='aaa21307-7669-4eed-b840-f1f88486bd33', author=Author(role='user', name=None, metadata={}), create_time=datetime.datetime(2024, 4, 24, 2, 48, 56, 840563, tzinfo=TzInfo(UTC)), update_time=None, content=Content(content_type='text', parts=['What do you remember about me?']), status='finished_successfully', end_turn=None, weight=1.0, metadata={'request_id': '8792c6f96eff511c-MSP', 'timestamp_': 'absolute', 'message_type': None}, recipient='all'), parent='92f39d33-e63e-415b-bf7c-838803f03456', children=['bc2ac1b2-02f6-443f-9587-eed2cf53f755']),\n",
       "  'bc2ac1b2-02f6-443f-9587-eed2cf53f755': MappingEntry(id='bc2ac1b2-02f6-443f-9587-eed2cf53f755', message=Message(id='bc2ac1b2-02f6-443f-9587-eed2cf53f755', author=Author(role='assistant', name=None, metadata={}), create_time=datetime.datetime(2024, 4, 24, 2, 49, 18, 134432, tzinfo=TzInfo(UTC)), update_time=None, content=Content(content_type='text', parts=[\"I remember that you're based in Minneapolis, Minnesota, and you grew up in Richmond, Virginia. You've worked in Austin and Dallas, Texas, as well as in Atlanta, Georgia. You're a software engineer specializing in web and phone app development for healthcare startups and researchers, with a strong background in TypeScript, Ruby, Python, and data modeling. You use macOS with zsh as your terminal, and you're interested in improving your skills in high-level software architecture and presenting cost/benefit analyses at an executive level. Plus, you're a fan of tech business strategy, puns, and fun facts! How's that for a memory?\"]), status='finished_successfully', end_turn=True, weight=1.0, metadata={'finish_details': {'type': 'stop', 'stop_tokens': [100260]}, 'citations': [], 'gizmo_id': None, 'message_type': None, 'model_slug': 'gpt-4', 'default_model_slug': 'gpt-4', 'pad': 'AAAA', 'parent_id': 'aaa21307-7669-4eed-b840-f1f88486bd33', 'is_complete': True, 'request_id': '8792c6f96eff511c-MSP', 'timestamp_': 'absolute'}, recipient='all'), parent='aaa21307-7669-4eed-b840-f1f88486bd33', children=['aaa204f9-6637-44fe-8eb6-4886ce59b0f8']),\n",
       "  'aaa204f9-6637-44fe-8eb6-4886ce59b0f8': MappingEntry(id='aaa204f9-6637-44fe-8eb6-4886ce59b0f8', message=Message(id='aaa204f9-6637-44fe-8eb6-4886ce59b0f8', author=Author(role='user', name=None, metadata={}), create_time=datetime.datetime(2024, 4, 24, 2, 50, 46, 213261, tzinfo=TzInfo(UTC)), update_time=None, content=Content(content_type='text', parts=[\"Haha, thanks. I think it'd be a fun exercise for us to remind you about our past conversations. How about we download all of the chats we've had before, then I'll upload that to you, then you can processes it to pick out important memories, then I can ask you to remember them! Can you create a plan for that?\"]), status='finished_successfully', end_turn=None, weight=1.0, metadata={'request_id': '8792c9a529294c9d-MSP', 'timestamp_': 'absolute', 'message_type': None}, recipient='all'), parent='bc2ac1b2-02f6-443f-9587-eed2cf53f755', children=['f2273bf6-9e44-4dc1-bc7a-b6862363ef92']),\n",
       "  'f2273bf6-9e44-4dc1-bc7a-b6862363ef92': MappingEntry(id='f2273bf6-9e44-4dc1-bc7a-b6862363ef92', message=Message(id='f2273bf6-9e44-4dc1-bc7a-b6862363ef92', author=Author(role='assistant', name=None, metadata={}), create_time=datetime.datetime(2024, 4, 24, 2, 51, 1, 242473, tzinfo=TzInfo(UTC)), update_time=None, content=Content(content_type='text', parts=[\"That's a creative idea, but my capabilities are designed with privacy as a priority, so I can’t actually store or process personal chat histories outside of the current session. Each conversation with me is siloed for user privacy, meaning I don't have the ability to remember or learn from past interactions unless the memory is specifically enabled and the information is provided within the same chat session.\\n\\nHowever, you can tell me things during our chat that you'd like me to remember for next time, as long as the memory feature remains enabled. If there are key points from past conversations you want to make sure I keep in mind, you can restate them, and I'll incorporate that into our ongoing interactions!\"]), status='finished_successfully', end_turn=True, weight=1.0, metadata={'finish_details': {'type': 'stop', 'stop_tokens': [100260]}, 'citations': [], 'gizmo_id': None, 'message_type': None, 'model_slug': 'gpt-4', 'default_model_slug': 'gpt-4', 'pad': 'AAAAAAAAAAA', 'parent_id': 'aaa204f9-6637-44fe-8eb6-4886ce59b0f8', 'is_complete': True, 'request_id': '8792c9a529294c9d-MSP', 'timestamp_': 'absolute'}, recipient='all'), parent='aaa204f9-6637-44fe-8eb6-4886ce59b0f8', children=['aaa2d667-371e-4585-a020-c4c7d38ee686']),\n",
       "  'aaa2d667-371e-4585-a020-c4c7d38ee686': MappingEntry(id='aaa2d667-371e-4585-a020-c4c7d38ee686', message=Message(id='aaa2d667-371e-4585-a020-c4c7d38ee686', author=Author(role='user', name=None, metadata={}), create_time=datetime.datetime(2024, 4, 24, 2, 51, 33, 624092, tzinfo=TzInfo(UTC)), update_time=None, content=Content(content_type='text', parts=[\"Yes, let's do that. Can you come up with a plan that downloads our past chats where I can then upload them to you?\"]), status='finished_successfully', end_turn=None, weight=1.0, metadata={'request_id': '8792cac54e0c4c9d-MSP', 'timestamp_': 'absolute', 'message_type': None}, recipient='all'), parent='f2273bf6-9e44-4dc1-bc7a-b6862363ef92', children=[])},\n",
       " 'moderation_results': [],\n",
       " 'current_node': 'aaa2d667-371e-4585-a020-c4c7d38ee686',\n",
       " 'plugin_ids': None,\n",
       " 'conversation_id': '33ee8f84-438d-4c99-9810-2de106cd53b7',\n",
       " 'conversation_template_id': None,\n",
       " 'gizmo_id': None,\n",
       " 'is_archived': False,\n",
       " 'safe_urls': [],\n",
       " 'default_model_slug': 'gpt-4',\n",
       " 'id': '33ee8f84-438d-4c99-9810-2de106cd53b7'}"
      ]
     },
     "execution_count": 23,
     "metadata": {},
     "output_type": "execute_result"
    }
   ],
   "source": [
    "data = load_conversations(\"../data/min_conversations.json\")\n",
    "\n",
    "\n",
    "\n"
   ]
  },
  {
   "cell_type": "code",
   "execution_count": null,
   "metadata": {},
   "outputs": [],
   "source": []
  }
 ],
 "metadata": {
  "kernelspec": {
   "display_name": ".venv",
   "language": "python",
   "name": "python3"
  },
  "language_info": {
   "codemirror_mode": {
    "name": "ipython",
    "version": 3
   },
   "file_extension": ".py",
   "mimetype": "text/x-python",
   "name": "python",
   "nbconvert_exporter": "python",
   "pygments_lexer": "ipython3",
   "version": "3.12.2"
  }
 },
 "nbformat": 4,
 "nbformat_minor": 2
}
